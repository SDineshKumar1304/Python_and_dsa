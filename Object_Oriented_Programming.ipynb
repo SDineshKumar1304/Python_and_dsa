{
 "cells": [
  {
   "cell_type": "markdown",
   "id": "165f8509",
   "metadata": {},
   "source": [
    "# Class"
   ]
  },
  {
   "cell_type": "code",
   "execution_count": 1,
   "id": "f3a871b6",
   "metadata": {},
   "outputs": [
    {
     "name": "stdout",
     "output_type": "stream",
     "text": [
      "From Private Variable: Four Wheels\n",
      "public Variable car\n"
     ]
    }
   ],
   "source": [
    "class Car:\n",
    "    ''' - class is a blueprint for creating objects.\n",
    "        eg : One google form for registration ,holds properties like name ,age, gender etc \n",
    "             Multiple humans(objects) can register, functionality.\n",
    "        - It defines a set of attributes (data) and methods (functions) that can be associated with those objects.\n",
    "        - Class holds data members like private or public variables,constructors,methods.\n",
    "        - class helps to achive oops pillars\n",
    "        - One Blueprint more objects'''\n",
    "    \n",
    "    # Private Variable\n",
    "    __a = 'Four Wheels'\n",
    "    print('From Private Variable:',__a)\n",
    "    \n",
    "    # To see private data member we need getter method\n",
    "    def geta(self):\n",
    "        return self.__a\n",
    "    \n",
    "    # To modify we need to create setters method\n",
    "    def seta(self,a):\n",
    "        self.__a = a\n",
    "    \n",
    "    # Public Variable\n",
    "    b = 'car'\n",
    "    print('public Variable' , b)\n",
    "    \n",
    "    # Private methods \n",
    "    \n",
    "    def __audi(self):\n",
    "        print('audi')\n",
    "        \n",
    "    def getAudi(self):\n",
    "        return self.__audi()\n",
    "    \n",
    "    def __str__(self):\n",
    "        return self.b # Overriding the Tostring method\n",
    "    \n",
    "    # constructor \n",
    "    def __init__(self):# Self stores the current object address similar to 'this' in Java\n",
    "        print('i am constructor')\n",
    "    \n",
    "    # Methods\n",
    "    def car(self):\n",
    "        print(\"I am Car\")\n",
    "               \n"
   ]
  },
  {
   "cell_type": "markdown",
   "id": "5a42d7a8",
   "metadata": {},
   "source": [
    "# Objects"
   ]
  },
  {
   "cell_type": "code",
   "execution_count": 18,
   "id": "b0d83e75",
   "metadata": {},
   "outputs": [
    {
     "name": "stdout",
     "output_type": "stream",
     "text": [
      "i am constructor\n",
      "car\n",
      "Four Wheels\n",
      "three wheels\n",
      "car\n",
      "audi\n",
      "\n",
      "*******************************Obj 2 ***********************\n",
      "\n",
      "i am constructor\n",
      "car\n",
      "Four Wheels\n",
      "five wheels\n",
      "car\n",
      "audi\n"
     ]
    }
   ],
   "source": [
    "''' For car class we creating objects ,\n",
    "    Objects:\n",
    "    - Object is a real world entities \n",
    "    - OOP help us to build realworld applications\n",
    "    - Object is a block of memory which stores the variables and methods\n",
    "    - Every object returns the address\n",
    "    - objects are  helps to store different/heterogeneous data, where other datatypes cant store\n",
    "    - we can access the data by the reference'''\n",
    "\n",
    "\n",
    "# Creating Objects\n",
    "\n",
    "c = Car()\n",
    "print(c)\n",
    "print(c.geta())\n",
    "c.seta('three wheels')\n",
    "print(c.geta())\n",
    "\n",
    "print(c.b)\n",
    "c.getAudi()\n",
    "print()\n",
    "print('*******************************Obj 2 ***********************')\n",
    "print()\n",
    "c1 = Car()\n",
    "print(c1)\n",
    "print(c1.geta())\n",
    "c1.seta('five wheels')\n",
    "print(c1.geta())\n",
    "\n",
    "print(c1.b)\n",
    "c1.getAudi()\n"
   ]
  },
  {
   "cell_type": "markdown",
   "id": "96fa8f19",
   "metadata": {},
   "source": [
    "# Constructor Overriding"
   ]
  },
  {
   "cell_type": "code",
   "execution_count": 20,
   "id": "84f210e2",
   "metadata": {},
   "outputs": [
    {
     "name": "stdout",
     "output_type": "stream",
     "text": [
      "dinesh\n"
     ]
    }
   ],
   "source": [
    "class Book:\n",
    "    def __init__(self):\n",
    "        print(\"Hello I am Constructor\")\n",
    "     \n",
    "    def __init__(self,name):\n",
    "        self.name = name\n",
    "        print(self.name)\n",
    "        \n",
    "        ''' Last Constructor only gets executed at the time of object Creation ,\n",
    "        because python runs line by line so the constructor gets overrided '''\n",
    "        \n",
    "class BookDriver:\n",
    "    b = Book('dinesh')\n",
    "    "
   ]
  },
  {
   "cell_type": "markdown",
   "id": "d5abfee3",
   "metadata": {},
   "source": [
    "# Constructor Chaining"
   ]
  },
  {
   "cell_type": "code",
   "execution_count": 21,
   "id": "0dd88570",
   "metadata": {},
   "outputs": [
    {
     "name": "stdout",
     "output_type": "stream",
     "text": [
      "Default constructor\n",
      "Constructor with one argument\n",
      "Constructor with two arguments\n"
     ]
    }
   ],
   "source": [
    "'''We cant acheive constructor chaining using 'this()' like in java .\n",
    "   to acheive constructor chaining by making the parameter with default values and we can use it by if else condition\n",
    "   '''\n",
    "\n",
    "class MyClass:\n",
    "    def __init_with_one_argument(self, a):\n",
    "        print(\"Constructor with one argument\")\n",
    "        self.a = a\n",
    "        self.b = 0\n",
    "\n",
    "    def __init_with_two_arguments(self, a, b):\n",
    "        print(\"Constructor with two arguments\")\n",
    "        self.a = a\n",
    "        self.b = b\n",
    "        \n",
    "    def __init__(self, a=None, b=None):\n",
    "        if a is not None and b is None:\n",
    "            self.__init_with_one_argument(a)\n",
    "        elif a is not None and b is not None:\n",
    "            self.__init_with_two_arguments(a, b)\n",
    "        else:\n",
    "            print(\"Default constructor\")\n",
    "            self.a = 0\n",
    "            self.b = 0\n",
    "\n",
    "\n",
    "obj1 = MyClass()\n",
    "obj2 = MyClass(5)\n",
    "obj3 = MyClass(5, 10)\n"
   ]
  },
  {
   "cell_type": "markdown",
   "id": "894dc992",
   "metadata": {},
   "source": [
    "# Constructor overloading (Default parameter)"
   ]
  },
  {
   "cell_type": "code",
   "execution_count": 25,
   "id": "24a55195",
   "metadata": {},
   "outputs": [
    {
     "name": "stdout",
     "output_type": "stream",
     "text": [
      "Constructor: Name is Alice\n",
      "Constructor: Name is 25\n",
      "Constructor: Name is dinesh\n",
      "Constructor: Age is 10\n"
     ]
    }
   ],
   "source": [
    "''' Constructor Overloading is achieved through default parameter, interpretor binds constructor getting executed '''\n",
    "\n",
    "class MyClass:\n",
    "    def __init__(self, name=None, age=None):\n",
    "        if name is not None:\n",
    "            self.name = name\n",
    "            print(\"Constructor: Name is\",self.name)\n",
    "        if age is not None:\n",
    "            self.age = age\n",
    "            print(f\"Constructor: Age is\",self.age)\n",
    "\n",
    "obj1 = MyClass(\"Alice\")\n",
    "obj2 = MyClass(25)\n",
    "obj3 = MyClass('dinesh',10,101,1303.0)\n"
   ]
  },
  {
   "cell_type": "markdown",
   "id": "f182ebb3",
   "metadata": {},
   "source": [
    "# Constructor Overloading (Multiple Parameters)"
   ]
  },
  {
   "cell_type": "code",
   "execution_count": 34,
   "id": "e5d6bf9f",
   "metadata": {},
   "outputs": [
    {
     "name": "stdout",
     "output_type": "stream",
     "text": [
      "Default constructor\n",
      "Constructor with one argument: a \n",
      "Constructor with two arguments: a ,b\n"
     ]
    }
   ],
   "source": [
    "class MyClass:\n",
    "    def __init__(self, *args): # *args takes in the form of Tuple based on the length we can achieve\n",
    "        if len(args) == 0:\n",
    "            print(\"Default constructor\") \n",
    "          \n",
    "        elif len(args) == 1: \n",
    "            print(f\"Constructor with one argument: a \")\n",
    "         \n",
    "        elif len(args) == 2:\n",
    "            print(f\"Constructor with two arguments: a ,b\")\n",
    "           \n",
    "        else:\n",
    "            raise ValueError(\"Too many arguments\")\n",
    "\n",
    "# Usage\n",
    "obj1 = MyClass() # Calls default constructor\n",
    "\n",
    "obj2 = MyClass(5)          # Calls constructor with one argument\n",
    "obj3 = MyClass(5, 10)      # Calls constructor with two arguments\n"
   ]
  },
  {
   "cell_type": "markdown",
   "id": "21966ff0",
   "metadata": {},
   "source": [
    "# Calling a parent class method with super()"
   ]
  },
  {
   "cell_type": "code",
   "execution_count": 35,
   "id": "3087dbb0",
   "metadata": {},
   "outputs": [
    {
     "name": "stdout",
     "output_type": "stream",
     "text": [
      "Parent constructor called: Name is Alice\n",
      "Child constructor called: Age is 25\n"
     ]
    }
   ],
   "source": [
    "''' We can call constructors from parent to class to child class through inheritance '''\n",
    "\n",
    "class Parent:\n",
    "    def __init__(self, name):\n",
    "        self.name = name\n",
    "        print(f\"Parent constructor called: Name is {self.name}\")\n",
    "\n",
    "class Child(Parent):\n",
    "    \n",
    "    def __init__(self, name, age):\n",
    "        super().__init__(name)\n",
    "        self.age = age\n",
    "        print(f\"Child constructor called: Age is {self.age}\")\n",
    "\n",
    "obj = Child(\"Alice\", 25)\n"
   ]
  },
  {
   "cell_type": "markdown",
   "id": "21ca1d90",
   "metadata": {},
   "source": [
    "# Multiple Inheritance super()"
   ]
  },
  {
   "cell_type": "code",
   "execution_count": 5,
   "id": "0117ac7d",
   "metadata": {},
   "outputs": [
    {
     "name": "stdout",
     "output_type": "stream",
     "text": [
      "Class D Constructor\n",
      "Class B Constructor\n",
      "Class C Constructor\n",
      "Class A Constructor\n"
     ]
    }
   ],
   "source": [
    "''' in python to avoid constructor overriding between two class at a time of inheritance we use super()'''\n",
    "\n",
    "class A:\n",
    "    def __init__(self):\n",
    "        print(\"Class A Constructor\")\n",
    "\n",
    "class B(A):\n",
    "    def __init__(self):\n",
    "        print(\"Class B Constructor\")\n",
    "        super().__init__()\n",
    "\n",
    "class C(A):\n",
    "    def __init__(self):\n",
    "        print(\"Class C Constructor\")\n",
    "        super().__init__()\n",
    "\n",
    "class D(B, C):\n",
    "    def __init__(self):\n",
    "        print(\"Class D Constructor\")\n",
    "        super().__init__()\n",
    "\n",
    "# Usage\n",
    "d = D()\n"
   ]
  },
  {
   "cell_type": "markdown",
   "id": "22ba37d2",
   "metadata": {},
   "source": [
    "# Encapsulation"
   ]
  },
  {
   "cell_type": "code",
   "execution_count": 9,
   "id": "26ea5aff",
   "metadata": {},
   "outputs": [
    {
     "name": "stdout",
     "output_type": "stream",
     "text": [
      "1\n",
      "<__main__.engine object at 0x000001AFD68577C0>\n",
      "1\n",
      "1000\n"
     ]
    }
   ],
   "source": [
    "class engine:\n",
    "    __hp = 1 # Making the variable private only accessible inside this class\n",
    "    \n",
    "#     print(__hp) it is possible but outside this class it is not possible\n",
    "    \n",
    "    def __init__(self):\n",
    "        pass\n",
    "    \n",
    "    def getHp(self): # To access the private variable of the same class from another class we use getters method\n",
    "        return self.__hp\n",
    "    \n",
    "    def setHp(self,hp): # To Modify the value of the private variable of the same class from another class we use setters method \n",
    "        engine.__hp = hp\n",
    "        return engine.__hp\n",
    "    \n",
    "class car:       \n",
    "    c = engine()\n",
    "    print(c) # stores the address of the object\n",
    "#     print(c.__hp) it is not possible when the variable is in private\n",
    "    \n",
    "    print(c.getHp())\n",
    "    c.setHp(1000)\n",
    "    print(c.getHp())"
   ]
  },
  {
   "cell_type": "markdown",
   "id": "9e6993a3",
   "metadata": {},
   "source": [
    "# has - a Relationship (Early Instantiation)"
   ]
  },
  {
   "cell_type": "code",
   "execution_count": 11,
   "id": "44a0fba9",
   "metadata": {},
   "outputs": [
    {
     "name": "stdout",
     "output_type": "stream",
     "text": [
      "AUDI\n",
      "10000\n",
      "0\n"
     ]
    }
   ],
   "source": [
    "''' Relationship  means it is a connection between two objects\n",
    "    eg : Car has engine , here car is object and engine is also a object\n",
    "'''\n",
    "\n",
    "class Engine:\n",
    "    hp = 0 \n",
    "\n",
    "class CarNew:\n",
    "    e = Engine() # CarNew class has Engine object \n",
    "    \n",
    "'''Early instantiation means ,when we create CarNew object , \n",
    "before the CarNew object creation first the engine object is getting created'''\n",
    "\n",
    "    def __init__(self,name,price):\n",
    "        self.name = name\n",
    "        self.price = price\n",
    "        \n",
    "c = CarNew('AUDI',10000)\n",
    "print(c.name)\n",
    "print(c.price)\n",
    "print(c.e.hp) # we can see car has engine object address and the we accessing the engine horsepower"
   ]
  },
  {
   "cell_type": "markdown",
   "id": "afba67fc",
   "metadata": {},
   "source": [
    "# (Lasy Instantiation)"
   ]
  },
  {
   "cell_type": "code",
   "execution_count": 12,
   "id": "2fe3d9d0",
   "metadata": {},
   "outputs": [
    {
     "name": "stdout",
     "output_type": "stream",
     "text": [
      "Audi\n",
      "200\n"
     ]
    }
   ],
   "source": [
    "# lazy Instantiation\n",
    "\n",
    "''' In lazy Instantiation first car object was created ,and then later we have a method the creates engine object's address\n",
    "    now we can access horse power of engine from the method.\n",
    "''' \n",
    "\n",
    "class NewEngine:\n",
    "    hp = 200\n",
    "\n",
    "class newcar:\n",
    "    name = 'Audi'\n",
    "    \n",
    "    def gethp(self):\n",
    "        return NewEngine()  # It creates the engine object and return the address to self\n",
    "    \n",
    "    def sethp(self,hp):\n",
    "        self.gethp().hp = hp\n",
    "    \n",
    "c2 = newcar()\n",
    "print(c2.name)\n",
    "print(c2.gethp().hp) # Lazy instantiation is acheieved\n",
    "c2.sethp(100)\n"
   ]
  },
  {
   "cell_type": "markdown",
   "id": "8870a654",
   "metadata": {},
   "source": [
    "# Method Overloading in python"
   ]
  },
  {
   "cell_type": "code",
   "execution_count": 2,
   "id": "6e3cd1c2",
   "metadata": {},
   "outputs": [
    {
     "name": "stdout",
     "output_type": "stream",
     "text": [
      "5\n"
     ]
    }
   ],
   "source": [
    "''' \n",
    "   Since python executes line by line , method overloading is not possible because interpretor overrides the method\n",
    "   we can achieve overloading by making the default values to the parameters\n",
    "'''\n",
    "class over:\n",
    "    def __init__(self):\n",
    "        pass\n",
    "    \n",
    "#     def over1(self):\n",
    "#         print('a')\n",
    "        \n",
    "#     def over1(self, a):\n",
    "#         print('b')\n",
    "        \n",
    "#     def over1(self,a,b):\n",
    "#         print('c')\n",
    "\n",
    "#     def over1(self,a,b,c): Only last method considers the interpretor due to line by line execution(overriding occurs)\n",
    "#         print('d')  \n",
    "\n",
    "    \n",
    "    def over1(self,a = None,b = None , c = None,d = None):# Default Parameter\n",
    "        if a!=None and b!=None and c!=None and d!=None:\n",
    "            return a+b+c+d\n",
    "        elif a!=None and b!=None and c!=None:\n",
    "            return a+b+c\n",
    "        elif a!=None and b!=None:\n",
    "            return a+b\n",
    "        else:\n",
    "            return 'Done'\n",
    "        \n",
    "class overload:\n",
    "    o = over()\n",
    "    print(o.over1(3,2))\n",
    "    "
   ]
  },
  {
   "cell_type": "code",
   "execution_count": 53,
   "id": "7c54bc5f",
   "metadata": {},
   "outputs": [
    {
     "data": {
      "text/plain": [
       "8"
      ]
     },
     "execution_count": 53,
     "metadata": {},
     "output_type": "execute_result"
    }
   ],
   "source": [
    "''' the above process is not efficient so  to achieve method overloading using *args which accepts multiple arguments \n",
    "    or parameters at a time of method call , in this way method overloading can be achieved\n",
    "'''\n",
    "class a:\n",
    "    def __init__(self):\n",
    "        pass\n",
    "    \n",
    "    def over2(self,*args):\n",
    "        return sum(list(args))\n",
    "\n",
    "c = a()\n",
    "c.over2(1,2,5)\n",
    "        "
   ]
  },
  {
   "cell_type": "markdown",
   "id": "8369756d",
   "metadata": {},
   "source": [
    "# Method Overriding"
   ]
  },
  {
   "cell_type": "code",
   "execution_count": 12,
   "id": "e4d8a5d7",
   "metadata": {},
   "outputs": [
    {
     "name": "stdout",
     "output_type": "stream",
     "text": [
      "overrided\n",
      "hello Dinesh\n"
     ]
    }
   ],
   "source": [
    "class dinesh:\n",
    "    def __init__(self):\n",
    "        pass\n",
    "    \n",
    "    def add(self):\n",
    "        print('hello Dhanush')\n",
    "    \n",
    "    def add(self,a):\n",
    "        print('overrided')\n",
    "        \n",
    "        ''' Similar to Constructor Overriding'''\n",
    "        \n",
    "        print('hello Dinesh')\n",
    "        \n",
    "c = dinesh()\n",
    "# c.add() only last method considerd\n",
    "c.add(3)"
   ]
  },
  {
   "cell_type": "markdown",
   "id": "4e467144",
   "metadata": {},
   "source": [
    "# Single Inheritance"
   ]
  },
  {
   "cell_type": "code",
   "execution_count": null,
   "id": "761b0b64",
   "metadata": {},
   "outputs": [],
   "source": [
    "''' inheritance or is-a relationship, inheriting the properties of one class(Super class)\n",
    "   to another class(sub class) is called inheritance.\n",
    "'''"
   ]
  },
  {
   "cell_type": "code",
   "execution_count": 21,
   "id": "69ef8bd2",
   "metadata": {},
   "outputs": [],
   "source": [
    "class P:\n",
    "    a = 10   "
   ]
  },
  {
   "cell_type": "code",
   "execution_count": 24,
   "id": "2635d4c0",
   "metadata": {},
   "outputs": [
    {
     "name": "stdout",
     "output_type": "stream",
     "text": [
      "from parent 10\n",
      "from child 10\n"
     ]
    }
   ],
   "source": [
    "class C(P):\n",
    "    print('from parent',P.a) # Inherited from the parent\n",
    "    print('from child',C.a) # Accessing the parent class value from child class"
   ]
  },
  {
   "cell_type": "code",
   "execution_count": 30,
   "id": "94e924fc",
   "metadata": {},
   "outputs": [
    {
     "name": "stdout",
     "output_type": "stream",
     "text": [
      "from B dinesh\n",
      "hi\n"
     ]
    }
   ],
   "source": [
    "class A:# Super class or parent class\n",
    "    \n",
    "    def hello(self):\n",
    "        print('hi')\n",
    "\n",
    "class B(A): # sub class or child class\n",
    "    def __init__(self,name):\n",
    "        self.name = name\n",
    "        print('from B',self.name)\n",
    "\n",
    "\n",
    "c = B('dinesh') # Object for B but we can Access A also, through Single Inheritance\n",
    "c.hello()"
   ]
  },
  {
   "cell_type": "code",
   "execution_count": 40,
   "id": "dbabcb6e",
   "metadata": {},
   "outputs": [
    {
     "name": "stdout",
     "output_type": "stream",
     "text": [
      "from C\n",
      "from D :  2\n"
     ]
    }
   ],
   "source": [
    "# Constructor Overiding in inheritance\n",
    "\n",
    "\n",
    "class C:\n",
    "    def __init__(self):\n",
    "        print('from C')\n",
    "        \n",
    "class D(C):\n",
    "    def __init__(self,a):\n",
    "        super().__init__() # Constructor Overriding Avoided\n",
    "        self.a = a\n",
    "        print('from D : ',self.a)\n",
    "\n",
    "# d =D() # Overriden\n",
    "''' to avoid constructor overriding during inheritance we use super() to invoke the parent class constructors or methods'''\n",
    "d = D(2)\n",
    "        "
   ]
  },
  {
   "cell_type": "markdown",
   "id": "370582a6",
   "metadata": {},
   "source": [
    "#  Multiple Inheritance"
   ]
  },
  {
   "cell_type": "code",
   "execution_count": 41,
   "id": "1c89972e",
   "metadata": {},
   "outputs": [
    {
     "name": "stdout",
     "output_type": "stream",
     "text": [
      "Method A\n",
      "Method B\n",
      "Method C\n"
     ]
    }
   ],
   "source": [
    "# Here no Overriding happens Overriding happens when we have same name or \n",
    "class ClassA:\n",
    "    def method_a(self):\n",
    "        print(\"Method A\")\n",
    "\n",
    "class ClassB:\n",
    "    def method_b(self):\n",
    "        print(\"Method B\")\n",
    "\n",
    "class ClassC(ClassA, ClassB):\n",
    "    def method_c(self):\n",
    "        print(\"Method C\")\n",
    "\n",
    "obj = ClassC()\n",
    "obj.method_a()  # Inherited from ClassA\n",
    "obj.method_b()  # Inherited from ClassB\n",
    "obj.method_c()  # Defined in ClassC\n"
   ]
  },
  {
   "cell_type": "markdown",
   "id": "92c6329b",
   "metadata": {},
   "source": [
    "# Diamond Problem"
   ]
  },
  {
   "cell_type": "code",
   "execution_count": 59,
   "id": "82e519e6",
   "metadata": {},
   "outputs": [
    {
     "name": "stdout",
     "output_type": "stream",
     "text": [
      "from father\n",
      "white\n",
      "2\n"
     ]
    }
   ],
   "source": [
    "class father:   \n",
    "    color = 'white' # same name\n",
    "    \n",
    "    def __init__(self):\n",
    "        print('from father')\n",
    "        \n",
    "class mother:\n",
    "    color = 'black' # same name\n",
    "    def __init__(self):\n",
    "        print('from mother')\n",
    "\n",
    "class child(father,mother):\n",
    "    # So in python (father,mother) First priority is given to first parameter father is color is considered  \n",
    "    leg = 2\n",
    "\n",
    "c = child()   \n",
    "print(c.color) # Diamond problem Occurs ,interpretor gets consfused which one should i consider \n",
    "print(c.leg)"
   ]
  },
  {
   "cell_type": "markdown",
   "id": "cdc776d0",
   "metadata": {},
   "source": [
    "Solution in Python: MRO (Method Resolution Order)\n",
    "Python uses the C3 linearization algorithm to resolve this issue by determining the order in which methods are inherited, ensuring that each class is only accessed once. The order is called the Method Resolution Order (MRO)."
   ]
  },
  {
   "cell_type": "code",
   "execution_count": 63,
   "id": "96e15693",
   "metadata": {
    "scrolled": true
   },
   "outputs": [
    {
     "name": "stdout",
     "output_type": "stream",
     "text": [
      "[<class '__main__.child'>, <class '__main__.father'>, <class '__main__.mother'>, <class 'object'>]\n",
      "(<class '__main__.child'>, <class '__main__.father'>, <class '__main__.mother'>, <class 'object'>)\n"
     ]
    }
   ],
   "source": [
    "print(child.mro())\n",
    "# or\n",
    "print(child.__mro__)"
   ]
  },
  {
   "cell_type": "markdown",
   "id": "f1288ab0",
   "metadata": {},
   "source": [
    "# Multilevel Inheritance"
   ]
  },
  {
   "cell_type": "code",
   "execution_count": 2,
   "id": "a8595d32",
   "metadata": {},
   "outputs": [
    {
     "name": "stdout",
     "output_type": "stream",
     "text": [
      "Grandparent method\n",
      "Parent method\n",
      "Child method\n"
     ]
    }
   ],
   "source": [
    "class Grandparent:\n",
    "    def method_grandparent(self):\n",
    "        print(\"Grandparent method\")\n",
    "\n",
    "class Parent(Grandparent):\n",
    "    def method_parent(self):\n",
    "        print(\"Parent method\")\n",
    "\n",
    "class Child(Parent):\n",
    "    def method_child(self):\n",
    "        print(\"Child method\")\n",
    "\n",
    "obj = Child()\n",
    "obj.method_grandparent()  # Inherited from Grandparent\n",
    "obj.method_parent()       # Inherited from Parent\n",
    "obj.method_child()        # Defined in Child"
   ]
  },
  {
   "cell_type": "markdown",
   "id": "ba6624ae",
   "metadata": {},
   "source": [
    "# Abstraction"
   ]
  },
  {
   "cell_type": "code",
   "execution_count": 1,
   "id": "b293a3b8",
   "metadata": {},
   "outputs": [
    {
     "name": "stdout",
     "output_type": "stream",
     "text": [
      "Swift is moving\n",
      "Swift is stopped\n",
      "Swift is horn!!\n"
     ]
    }
   ],
   "source": [
    "'''Abstract methods helps to hide the implementation of code\n",
    "  - Abstract class contains only abstract methods\n",
    "  - Abstractraction is achieved through inheritance\n",
    "  - Abstract has no modifiers\n",
    "  - in python we import abstract base class abc \n",
    "- '''\n",
    "\n",
    "from abc import ABC,abstractmethod\n",
    "\n",
    "class Car(ABC):\n",
    "    \n",
    "    @abstractmethod # Decorators --> with any modification in the beflow code we add new features abstractmethod\n",
    "    def move(self):\n",
    "        pass\n",
    "    @abstractmethod\n",
    "    def stop(self):\n",
    "        pass\n",
    "    @abstractmethod\n",
    "    def horn(self):\n",
    "        pass\n",
    "\n",
    "class Swift(Car):\n",
    "    \n",
    "    def move(self): # Here we are Overriding the Abstract method\n",
    "        print(\"Swift is moving\")\n",
    "    def stop(self):\n",
    "        print('Swift is stopped')\n",
    "    def horn(self):\n",
    "        print('Swift is horn!!')\n",
    "\n",
    "class Audi(Car):\n",
    "    def move(self):\n",
    "        print(\"AUDI is moving\")\n",
    "    def stop(self):\n",
    "        print('AUDI is stopped')\n",
    "    def horn(self):\n",
    "        print('AUDI is horn!!')\n",
    "        \n",
    "s = Swift()\n",
    "s.move()\n",
    "s.stop()\n",
    "s.horn()"
   ]
  },
  {
   "cell_type": "code",
   "execution_count": null,
   "id": "63f74b34",
   "metadata": {},
   "outputs": [],
   "source": [
    "# END"
   ]
  }
 ],
 "metadata": {
  "kernelspec": {
   "display_name": "Python 3 (ipykernel)",
   "language": "python",
   "name": "python3"
  },
  "language_info": {
   "codemirror_mode": {
    "name": "ipython",
    "version": 3
   },
   "file_extension": ".py",
   "mimetype": "text/x-python",
   "name": "python",
   "nbconvert_exporter": "python",
   "pygments_lexer": "ipython3",
   "version": "3.10.13"
  }
 },
 "nbformat": 4,
 "nbformat_minor": 5
}
