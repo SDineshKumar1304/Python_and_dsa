{
 "cells": [
  {
   "attachments": {},
   "cell_type": "markdown",
   "id": "6117eb04",
   "metadata": {},
   "source": [
    "# Python and DSA November 23 - December 15\n",
    "\n",
    "https://encrypted-tbn0.gstatic.com/images?q=tbn:ANd9GcT-V-ErixmIRHH57q7p47kCX-sWBk70Mraj7g&s\n"
   ]
  },
  {
   "cell_type": "code",
   "execution_count": null,
   "id": "f7b7baf5",
   "metadata": {},
   "outputs": [],
   "source": [
    "'''\n",
    "What is Python?\n",
    "How python works?\n",
    "variables\n",
    "data types\n",
    "'''"
   ]
  },
  {
   "cell_type": "code",
   "execution_count": null,
   "id": "6f1334f4",
   "metadata": {},
   "outputs": [],
   "source": []
  },
  {
   "cell_type": "code",
   "execution_count": null,
   "id": "d824aa82",
   "metadata": {},
   "outputs": [],
   "source": []
  },
  {
   "cell_type": "code",
   "execution_count": 2,
   "id": "5c8caff0",
   "metadata": {},
   "outputs": [],
   "source": [
    "# problems"
   ]
  },
  {
   "cell_type": "code",
   "execution_count": null,
   "id": "d1c80a88",
   "metadata": {},
   "outputs": [],
   "source": []
  }
 ],
 "metadata": {
  "kernelspec": {
   "display_name": "Python 3 (ipykernel)",
   "language": "python",
   "name": "python3"
  },
  "language_info": {
   "codemirror_mode": {
    "name": "ipython",
    "version": 3
   },
   "file_extension": ".py",
   "mimetype": "text/x-python",
   "name": "python",
   "nbconvert_exporter": "python",
   "pygments_lexer": "ipython3",
   "version": "3.10.13"
  }
 },
 "nbformat": 4,
 "nbformat_minor": 5
}
